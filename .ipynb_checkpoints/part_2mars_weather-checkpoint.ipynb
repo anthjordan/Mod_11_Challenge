{
 "cells": [
  {
   "cell_type": "code",
   "execution_count": 20,
   "id": "1dc51ea2-0bd1-499f-91e6-8699074cca85",
   "metadata": {},
   "outputs": [],
   "source": [
    "# Import relevant libraries\n",
    "from splinter import Browser\n",
    "from bs4 import BeautifulSoup as soup\n",
    "import matplotlib.pyplot as plt\n",
    "import pandas as pd"
   ]
  },
  {
   "cell_type": "code",
   "execution_count": 21,
   "id": "965c83e8-1650-43f6-9082-41e5d6f1b04c",
   "metadata": {},
   "outputs": [],
   "source": [
    "browser = Browser('chrome')"
   ]
  },
  {
   "cell_type": "code",
   "execution_count": 22,
   "id": "c1ae8598-d3e4-453d-aaa2-4e3a251ecb50",
   "metadata": {},
   "outputs": [],
   "source": [
    "# Visit the website\n",
    "# https://static.bc-edx.com/data/web/mars_facts/temperature.html\n",
    "url = \"https://static.bc-edx.com/data/web/mars_facts/temperature.html\"\n",
    "browser.visit(url)"
   ]
  },
  {
   "cell_type": "code",
   "execution_count": 23,
   "id": "56e78999-c425-481c-afcd-1c7728fa41cc",
   "metadata": {},
   "outputs": [],
   "source": [
    "# Create a Beautiful Soup Object\n",
    "weather_soup = soup(browser.html,'html.parser')"
   ]
  },
  {
   "cell_type": "code",
   "execution_count": 24,
   "id": "35806e1e-e896-4dc2-8ea8-c2244d91f380",
   "metadata": {},
   "outputs": [],
   "source": [
    "# Extract all rows of data\n",
    "weather_table = weather_soup.find('table')\n",
    "\n",
    "weather_data = weather_table.find_all('tr')"
   ]
  },
  {
   "cell_type": "code",
   "execution_count": 27,
   "id": "731faa22-eef9-4d54-8d95-56b020628ad2",
   "metadata": {},
   "outputs": [],
   "source": [
    "# Create an empty list\n",
    "id = []\n",
    "terrestrial_date = []\n",
    "sol = []\n",
    "ls = []\n",
    "month = []\n",
    "min_temp = []\n",
    "pressure = []\n",
    "\n",
    "# Loop through the scraped data to create a list of rows\n",
    "# Examine data type of each column, looked at site.\n",
    "# Change data types for data analysis\n",
    "\n",
    "for row in weather_data[1:]:\n",
    "    columns = row.find_all('td')\n",
    "    id.append(columns[0].text.strip())\n",
    "    terrestrial_date.append(columns[1].text.strip())\n",
    "    sol.append(int(columns[2].text.strip()))\n",
    "    ls.append(int(columns[3].text.strip()))\n",
    "    month.append(int(columns[4].text.strip()))\n",
    "    min_temp.append(float(columns[5].text.strip()))\n",
    "    pressure.append(float(columns[6].text.strip()))\n",
    "\n"
   ]
  },
  {
   "cell_type": "code",
   "execution_count": 28,
   "id": "6cae0d4d-ae90-4a14-96c6-9748f64a280a",
   "metadata": {},
   "outputs": [
    {
     "name": "stdout",
     "output_type": "stream",
     "text": [
      "<class 'pandas.core.frame.DataFrame'>\n",
      "RangeIndex: 1867 entries, 0 to 1866\n",
      "Data columns (total 7 columns):\n",
      " #   Column            Non-Null Count  Dtype  \n",
      "---  ------            --------------  -----  \n",
      " 0   id                1867 non-null   object \n",
      " 1   terrestrial_date  1867 non-null   object \n",
      " 2   sol               1867 non-null   int64  \n",
      " 3   ls                1867 non-null   int64  \n",
      " 4   month             1867 non-null   int64  \n",
      " 5   min_temp          1867 non-null   float64\n",
      " 6   pressure          1867 non-null   float64\n",
      "dtypes: float64(2), int64(3), object(2)\n",
      "memory usage: 102.2+ KB\n"
     ]
    }
   ],
   "source": [
    "# Create a Pandas DataFrame from the extracted data\n",
    "mars_weather_df = pd.DataFrame({\n",
    "    \"id\": id,\n",
    "    \"terrestrial_date\": terrestrial_date,\n",
    "    \"sol\": sol,\n",
    "    \"ls\": ls,\n",
    "    \"month\": month,\n",
    "    \"min_temp\": min_temp,\n",
    "    \"pressure\": pressure\n",
    "})\n",
    "\n",
    "# Confirm type changes were successful by examining data types again\n",
    "mars_weather_df.info()"
   ]
  },
  {
   "cell_type": "code",
   "execution_count": 29,
   "id": "65a78558-7d69-490e-a9e6-3abdd1f3239f",
   "metadata": {},
   "outputs": [
    {
     "data": {
      "text/html": [
       "<div>\n",
       "<style scoped>\n",
       "    .dataframe tbody tr th:only-of-type {\n",
       "        vertical-align: middle;\n",
       "    }\n",
       "\n",
       "    .dataframe tbody tr th {\n",
       "        vertical-align: top;\n",
       "    }\n",
       "\n",
       "    .dataframe thead th {\n",
       "        text-align: right;\n",
       "    }\n",
       "</style>\n",
       "<table border=\"1\" class=\"dataframe\">\n",
       "  <thead>\n",
       "    <tr style=\"text-align: right;\">\n",
       "      <th></th>\n",
       "      <th>id</th>\n",
       "      <th>terrestrial_date</th>\n",
       "      <th>sol</th>\n",
       "      <th>ls</th>\n",
       "      <th>month</th>\n",
       "      <th>min_temp</th>\n",
       "      <th>pressure</th>\n",
       "    </tr>\n",
       "  </thead>\n",
       "  <tbody>\n",
       "    <tr>\n",
       "      <th>0</th>\n",
       "      <td>2</td>\n",
       "      <td>2012-08-16</td>\n",
       "      <td>10</td>\n",
       "      <td>155</td>\n",
       "      <td>6</td>\n",
       "      <td>-75.0</td>\n",
       "      <td>739.0</td>\n",
       "    </tr>\n",
       "    <tr>\n",
       "      <th>1</th>\n",
       "      <td>13</td>\n",
       "      <td>2012-08-17</td>\n",
       "      <td>11</td>\n",
       "      <td>156</td>\n",
       "      <td>6</td>\n",
       "      <td>-76.0</td>\n",
       "      <td>740.0</td>\n",
       "    </tr>\n",
       "    <tr>\n",
       "      <th>2</th>\n",
       "      <td>24</td>\n",
       "      <td>2012-08-18</td>\n",
       "      <td>12</td>\n",
       "      <td>156</td>\n",
       "      <td>6</td>\n",
       "      <td>-76.0</td>\n",
       "      <td>741.0</td>\n",
       "    </tr>\n",
       "    <tr>\n",
       "      <th>3</th>\n",
       "      <td>35</td>\n",
       "      <td>2012-08-19</td>\n",
       "      <td>13</td>\n",
       "      <td>157</td>\n",
       "      <td>6</td>\n",
       "      <td>-74.0</td>\n",
       "      <td>732.0</td>\n",
       "    </tr>\n",
       "    <tr>\n",
       "      <th>4</th>\n",
       "      <td>46</td>\n",
       "      <td>2012-08-20</td>\n",
       "      <td>14</td>\n",
       "      <td>157</td>\n",
       "      <td>6</td>\n",
       "      <td>-74.0</td>\n",
       "      <td>740.0</td>\n",
       "    </tr>\n",
       "  </tbody>\n",
       "</table>\n",
       "</div>"
      ],
      "text/plain": [
       "   id terrestrial_date  sol   ls  month  min_temp  pressure\n",
       "0   2       2012-08-16   10  155      6     -75.0     739.0\n",
       "1  13       2012-08-17   11  156      6     -76.0     740.0\n",
       "2  24       2012-08-18   12  156      6     -76.0     741.0\n",
       "3  35       2012-08-19   13  157      6     -74.0     732.0\n",
       "4  46       2012-08-20   14  157      6     -74.0     740.0"
      ]
     },
     "execution_count": 29,
     "metadata": {},
     "output_type": "execute_result"
    }
   ],
   "source": [
    "# Confirm DataFrame was created successfully\n",
    "mars_weather_df.head()"
   ]
  },
  {
   "cell_type": "code",
   "execution_count": 33,
   "id": "10463b11-b8b2-43d6-90ef-4533a298f159",
   "metadata": {},
   "outputs": [
    {
     "name": "stdout",
     "output_type": "stream",
     "text": [
      "Number of months on Mars:  12\n",
      "Number of martin days worth of data:  1867\n"
     ]
    }
   ],
   "source": [
    "# Convert 'terrestrial_date' column to datetime type\n",
    "mars_weather_df['terrestrial_date'] = pd.to_datetime(mars_weather_df['terrestrial_date'])\n",
    "\n",
    "# 1. How many months are there on Mars?\n",
    "num_months = mars_weather_df['month'].nunique()\n",
    "\n",
    "# 2. How many Martian days' worth of data are there?\n",
    "num_martian_days = mars_weather_df['sol'].nunique()\n",
    "\n",
    "# Printing results\n",
    "print(\"Number of months on Mars: \",num_months)\n",
    "print(\"Number of martin days worth of data: \", num_martian_days)"
   ]
  },
  {
   "cell_type": "code",
   "execution_count": 35,
   "id": "5a0f4ee9-c65c-4aa4-b102-8dc7d5024eb7",
   "metadata": {},
   "outputs": [
    {
     "data": {
      "text/plain": [
       "Text(0, 0.5, 'Temperature in Celsius')"
      ]
     },
     "execution_count": 35,
     "metadata": {},
     "output_type": "execute_result"
    },
    {
     "data": {
      "image/png": "[encoded data removed]",
      "text/plain": [
       "<Figure size 640x480 with 1 Axes>"
      ]
     },
     "metadata": {},
     "output_type": "display_data"
    }
   ],
   "source": [
    "# Plot the average temperature by month\n",
    "temp_df = mars_weather_df[['month', 'min_temp']]\n",
    "avg_by_month = temp_df.groupby('month').mean()\n",
    "\n",
    "avg_temp_df = pd.DataFrame(avg_by_month)\n",
    "avg_temp_df.plot.bar()\n",
    "plt.ylabel('Temperature in Celsius')\n"
   ]
  },
  {
   "cell_type": "code",
   "execution_count": 39,
   "id": "62a8ec66-4501-4346-b624-21cf62c44b08",
   "metadata": {},
   "outputs": [
    {
     "name": "stdout",
     "output_type": "stream",
     "text": [
      "[min_temp   -83.307292\n",
      "Name: 3, dtype: float64, min_temp   -68.382979\n",
      "Name: 8, dtype: float64]\n"
     ]
    }
   ],
   "source": [
    "# Identify the coldest and hottest months in Curiosity's location\n",
    "lowest_avg_temp = avg_temp_df.min()\n",
    "highest_avg_temp = avg_temp_df.max()\n",
    "\n",
    "lowest_highest = []\n",
    "\n",
    "for i, row in avg_temp_df.iterrows():\n",
    "    if int(row['min_temp']) == int(lowest_avg_temp):\n",
    "        lowest_highest.append(row)\n",
    "    elif int(row['min_temp']) == int(highest_avg_temp):\n",
    "        lowest_highest.append(row)\n",
    "print(lowest_highest)"
   ]
  },
  {
   "cell_type": "code",
   "execution_count": 36,
   "id": "702f7ec1-5dc9-45b1-bfe6-8446e17d12c1",
   "metadata": {},
   "outputs": [
    {
     "name": "stdout",
     "output_type": "stream",
     "text": [
      "         pressure\n",
      "month            \n",
      "1      862.488506\n",
      "2      889.455056\n",
      "3      877.322917\n",
      "4      806.329897\n",
      "5      748.557047\n",
      "6      745.054422\n",
      "7      795.105634\n",
      "8      873.829787\n",
      "9      913.305970\n",
      "10     887.312500\n",
      "11     857.014493\n",
      "12     842.156627\n"
     ]
    }
   ],
   "source": [
    "# 4. Average pressure by Martian month\n",
    "avg_pressure_df = mars_weather_df[['month', 'pressure']]\n",
    "avg_by_month = avg_pressure_df.groupby('month').mean()\n",
    "print(avg_by_month)"
   ]
  },
  {
   "cell_type": "code",
   "execution_count": 37,
   "id": "afccf1f6-37ce-4e6a-9570-3ea4d292ae75",
   "metadata": {},
   "outputs": [
    {
     "data": {
      "text/plain": [
       "<matplotlib.legend.Legend at 0x2ae471aa020>"
      ]
     },
     "execution_count": 37,
     "metadata": {},
     "output_type": "execute_result"
    },
    {
     "data": {
      "image/png": "[encoded data removed]",
      "text/plain": [
       "<Figure size 640x480 with 1 Axes>"
      ]
     },
     "metadata": {},
     "output_type": "display_data"
    }
   ],
   "source": [
    "# Plot the average pressure by month\n",
    "plt_avg_month_df = pd.DataFrame(avg_by_month)\n",
    "plt_avg_month_df.plot.bar()\n",
    "plt.ylabel('Atmospheric Pressure')\n",
    "plt.xlabel('Month')\n",
    "plt.legend(loc='lower left')"
   ]
  },
  {
   "cell_type": "code",
   "execution_count": 41,
   "id": "4b034109-b718-43f1-9459-a469e99c8857",
   "metadata": {},
   "outputs": [
    {
     "data": {
      "text/plain": [
       "Text(0.5, 0, 'Number of Terrestrial Days')"
      ]
     },
     "execution_count": 41,
     "metadata": {},
     "output_type": "execute_result"
    },
    {
     "data": {
      "image/png": "[encoded data removed]",
      "text/plain": [
       "<Figure size 640x480 with 1 Axes>"
      ]
     },
     "metadata": {},
     "output_type": "display_data"
    }
   ],
   "source": [
    "# 5. How many terrestrial (earth) days are there in a Martian year?\n",
    "mars_year_DF = mars_weather_df[['terrestrial_date', 'min_temp']]\n",
    "mars_year_DF['min_temp'].plot()\n",
    "plt.ylabel('Minimum Temperature')\n",
    "plt.xlabel('Number of Terrestrial Days')"
   ]
  },
  {
   "cell_type": "code",
   "execution_count": 42,
   "id": "6fa1f810-38fb-493a-b860-1020631ab919",
   "metadata": {},
   "outputs": [],
   "source": [
    "# Write the data to a CSV\n",
    "mars_weather_df.to_csv('mars_weather_data.csv', index=False)"
   ]
  },
  {
   "cell_type": "code",
   "execution_count": 43,
   "id": "1ca693f0-89c4-4db5-88f6-3d91d8690b53",
   "metadata": {},
   "outputs": [],
   "source": [
    "browser.quit()"
   ]
  },
  {
   "cell_type": "code",
   "execution_count": null,
   "id": "11173341-05c2-4363-8b00-cec7f1caea49",
   "metadata": {},
   "outputs": [],
   "source": []
  }
 ],
 "metadata": {
  "kernelspec": {
   "display_name": "Python 3 (ipykernel)",
   "language": "python",
   "name": "python3"
  },
  "language_info": {
   "codemirror_mode": {
    "name": "ipython",
    "version": 3
   },
   "file_extension": ".py",
   "mimetype": "text/x-python",
   "name": "python",
   "nbconvert_exporter": "python",
   "pygments_lexer": "ipython3",
   "version": "3.10.11"
  }
 },
 "nbformat": 4,
 "nbformat_minor": 5
}
